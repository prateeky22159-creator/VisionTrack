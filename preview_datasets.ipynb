{
 "cells": [
  {
   "cell_type": "markdown",
   "id": "c9fbf52c",
   "metadata": {},
   "source": [
    "# Load and Preview Project Datasets\n",
    "\n",
    "This notebook loads and previews the `CostTimeDataset.csv` and `TimescheduleDataset.csv` files using pandas."
   ]
  },
  {
   "cell_type": "code",
   "execution_count": null,
   "id": "d26cf437",
   "metadata": {},
   "outputs": [],
   "source": [
    "import pandas as pd\n",
    "pd.set_option('display.max_columns', None)\n"
   ]
  },
  {
   "cell_type": "markdown",
   "id": "924b7065",
   "metadata": {},
   "source": [
    "## Load CostTimeDataset.csv\n",
    "\n",
    "Load the first dataset into a pandas DataFrame."
   ]
  },
  {
   "cell_type": "code",
   "execution_count": null,
   "id": "7331d4a1",
   "metadata": {},
   "outputs": [],
   "source": [
    "cost_df = pd.read_csv('CostTimeDataset.csv')\n",
    "cost_df.head()"
   ]
  },
  {
   "cell_type": "code",
   "execution_count": null,
   "id": "0be7710a",
   "metadata": {},
   "outputs": [],
   "source": [
    "cost_df.info()"
   ]
  },
  {
   "cell_type": "markdown",
   "id": "9beb2646",
   "metadata": {},
   "source": [
    "## Load TimescheduleDataset.csv\n",
    "\n",
    "Load the second dataset into a pandas DataFrame."
   ]
  },
  {
   "cell_type": "code",
   "execution_count": null,
   "id": "78e40a5e",
   "metadata": {},
   "outputs": [],
   "source": [
    "schedule_df = pd.read_csv('TimescheduleDataset.csv')\n",
    "schedule_df.head()"
   ]
  },
  {
   "cell_type": "code",
   "execution_count": null,
   "id": "88cc9c16",
   "metadata": {},
   "outputs": [],
   "source": [
    "schedule_df.info()"
   ]
  }
 ],
 "metadata": {
  "language_info": {
   "name": "python"
  }
 },
 "nbformat": 4,
 "nbformat_minor": 5
}
